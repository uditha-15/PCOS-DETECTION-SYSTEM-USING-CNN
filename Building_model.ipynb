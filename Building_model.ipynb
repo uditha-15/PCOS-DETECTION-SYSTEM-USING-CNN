{
 "cells": [
  {
   "cell_type": "code",
   "execution_count": 1,
   "id": "528b092a-7292-4af7-9195-5e736b668cb7",
   "metadata": {},
   "outputs": [],
   "source": [
    "import numpy as np\n",
    "import pandas as pd\n",
    "import sklearn\n",
    "import tensorflow as tf\n",
    "import matplotlib.pyplot as plt"
   ]
  },
  {
   "cell_type": "code",
   "execution_count": 23,
   "id": "610266df-edea-4598-9bd6-d6d1c0bf13ce",
   "metadata": {},
   "outputs": [],
   "source": [
    "import os\n",
    "import cv2\n",
    "import numpy as np\n",
    "from sklearn.model_selection import train_test_split\n",
    "from tensorflow.keras.models import Sequential\n",
    "from tensorflow.keras.layers import Conv2D, MaxPooling2D, Flatten, Dense, Dropout\n",
    "from tensorflow.keras.preprocessing.image import ImageDataGenerator\n",
    "from tensorflow.keras.utils import to_categorical\n",
    "from sklearn.metrics import classification_report"
   ]
  },
  {
   "cell_type": "code",
   "execution_count": 13,
   "id": "7ab9da4b-b17a-4e9a-8ca7-9ddda5dd36df",
   "metadata": {},
   "outputs": [],
   "source": [
    "def load_data_from_folders(base_dir, img_size=(128, 128)):\n",
    "    images = []\n",
    "    labels = []\n",
    "    for label, category in enumerate([\"infected\", \"notinfected\"]):  # Assign 0 to 'infected', 1 to 'noninfected'\n",
    "        category_path = os.path.join(base_dir, category)\n",
    "        for img_name in os.listdir(category_path):\n",
    "            img_path = os.path.join(category_path, img_name)\n",
    "            img = cv2.imread(img_path)\n",
    "            if img is not None:\n",
    "                img = cv2.resize(img, img_size)  # Resize image\n",
    "                images.append(img)\n",
    "                labels.append(label)\n",
    "    images = np.array(images) / 255.0  # Normalize pixel values to [0, 1]\n",
    "    labels = np.array(labels)\n",
    "    return images, labels"
   ]
  },
  {
   "cell_type": "code",
   "execution_count": 14,
   "id": "0f9ff586-2de1-4b61-a293-2a8d12a35a62",
   "metadata": {},
   "outputs": [],
   "source": [
    "data_dir = os.path.expanduser(\"~/downloads/data\")  # Path to the dataset\n",
    "train_dir = os.path.join(data_dir, \"train\")\n",
    "test_dir = os.path.join(data_dir, \"test\")\n",
    "img_size = (128, 128)"
   ]
  },
  {
   "cell_type": "code",
   "execution_count": 15,
   "id": "41f2e64f-8682-4d56-8b38-0bd4c6eeb8ff",
   "metadata": {},
   "outputs": [],
   "source": [
    "X_train, y_train = load_data_from_folders(train_dir, img_size)\n",
    "X_test, y_test = load_data_from_folders(test_dir, img_size)"
   ]
  },
  {
   "cell_type": "code",
   "execution_count": 16,
   "id": "6ca4e6fb-cf54-4fbc-881b-dab8731238ab",
   "metadata": {},
   "outputs": [],
   "source": [
    "y_train = to_categorical(y_train)\n",
    "y_test = to_categorical(y_test)"
   ]
  },
  {
   "cell_type": "code",
   "execution_count": 17,
   "id": "6c719e6e-e82c-4de1-beaf-d3ef4ac71c00",
   "metadata": {},
   "outputs": [],
   "source": [
    "datagen = ImageDataGenerator(\n",
    "    rotation_range=15,\n",
    "    width_shift_range=0.1,\n",
    "    height_shift_range=0.1,\n",
    "    shear_range=0.1,\n",
    "    zoom_range=0.1,\n",
    "    horizontal_flip=True,\n",
    "    fill_mode='nearest'\n",
    ")"
   ]
  },
  {
   "cell_type": "code",
   "execution_count": 18,
   "id": "16b3c045-cbf5-4704-aeb7-37b47e13c115",
   "metadata": {},
   "outputs": [
    {
     "name": "stderr",
     "output_type": "stream",
     "text": [
      "2025-01-25 14:27:10.587526: I metal_plugin/src/device/metal_device.cc:1154] Metal device set to: Apple M1\n",
      "2025-01-25 14:27:10.587720: I metal_plugin/src/device/metal_device.cc:296] systemMemory: 8.00 GB\n",
      "2025-01-25 14:27:10.587877: I metal_plugin/src/device/metal_device.cc:313] maxCacheSize: 2.67 GB\n",
      "2025-01-25 14:27:10.588394: I tensorflow/core/common_runtime/pluggable_device/pluggable_device_factory.cc:303] Could not identify NUMA node of platform GPU ID 0, defaulting to 0. Your kernel may not have been built with NUMA support.\n",
      "2025-01-25 14:27:10.588763: I tensorflow/core/common_runtime/pluggable_device/pluggable_device_factory.cc:269] Created TensorFlow device (/job:localhost/replica:0/task:0/device:GPU:0 with 0 MB memory) -> physical PluggableDevice (device: 0, name: METAL, pci bus id: <undefined>)\n"
     ]
    }
   ],
   "source": [
    "model = Sequential([\n",
    "    Conv2D(32, (3, 3), activation='relu', input_shape=(128, 128, 3)),\n",
    "    MaxPooling2D(pool_size=(2, 2)),\n",
    "    Dropout(0.2),\n",
    "\n",
    "    Conv2D(64, (3, 3), activation='relu'),\n",
    "    MaxPooling2D(pool_size=(2, 2)),\n",
    "    Dropout(0.3),\n",
    "\n",
    "    Conv2D(128, (3, 3), activation='relu'),\n",
    "    MaxPooling2D(pool_size=(2, 2)),\n",
    "    Dropout(0.4),\n",
    "\n",
    "    Flatten(),\n",
    "    Dense(128, activation='relu'),\n",
    "    Dropout(0.5),\n",
    "    Dense(y_train.shape[1], activation='softmax') \n",
    "])"
   ]
  },
  {
   "cell_type": "code",
   "execution_count": 19,
   "id": "564081f6-058c-45aa-8038-b7463b5ea8b2",
   "metadata": {},
   "outputs": [],
   "source": [
    "model.compile(optimizer='adam', loss='categorical_crossentropy', metrics=['accuracy'])"
   ]
  },
  {
   "cell_type": "code",
   "execution_count": 20,
   "id": "30d188cc-730e-49e1-b375-903be3a12072",
   "metadata": {},
   "outputs": [
    {
     "name": "stdout",
     "output_type": "stream",
     "text": [
      "Epoch 1/20\n"
     ]
    },
    {
     "name": "stderr",
     "output_type": "stream",
     "text": [
      "2025-01-25 14:28:01.996625: I tensorflow/core/grappler/optimizers/custom_graph_optimizer_registry.cc:114] Plugin optimizer for device_type GPU is enabled.\n"
     ]
    },
    {
     "name": "stdout",
     "output_type": "stream",
     "text": [
      "61/61 [==============================] - ETA: 0s - loss: 0.7428 - accuracy: 0.6658"
     ]
    },
    {
     "name": "stderr",
     "output_type": "stream",
     "text": [
      "2025-01-25 14:28:17.550260: I tensorflow/core/grappler/optimizers/custom_graph_optimizer_registry.cc:114] Plugin optimizer for device_type GPU is enabled.\n"
     ]
    },
    {
     "name": "stdout",
     "output_type": "stream",
     "text": [
      "61/61 [==============================] - 18s 199ms/step - loss: 0.7428 - accuracy: 0.6658 - val_loss: 0.2965 - val_accuracy: 0.8689\n",
      "Epoch 2/20\n",
      "61/61 [==============================] - 10s 162ms/step - loss: 0.1626 - accuracy: 0.9350 - val_loss: 0.0232 - val_accuracy: 0.9969\n",
      "Epoch 3/20\n",
      "61/61 [==============================] - 10s 162ms/step - loss: 0.0432 - accuracy: 0.9870 - val_loss: 0.0024 - val_accuracy: 1.0000\n",
      "Epoch 4/20\n",
      "61/61 [==============================] - 11s 176ms/step - loss: 0.0282 - accuracy: 0.9906 - val_loss: 0.0031 - val_accuracy: 1.0000\n",
      "Epoch 5/20\n",
      "61/61 [==============================] - 11s 178ms/step - loss: 0.0165 - accuracy: 0.9958 - val_loss: 0.0010 - val_accuracy: 1.0000\n",
      "Epoch 6/20\n",
      "61/61 [==============================] - 10s 165ms/step - loss: 0.0085 - accuracy: 0.9964 - val_loss: 2.3408e-04 - val_accuracy: 1.0000\n",
      "Epoch 7/20\n",
      "61/61 [==============================] - 10s 161ms/step - loss: 0.0081 - accuracy: 0.9979 - val_loss: 3.1709e-04 - val_accuracy: 1.0000\n",
      "Epoch 8/20\n",
      "61/61 [==============================] - 11s 175ms/step - loss: 0.0061 - accuracy: 0.9984 - val_loss: 4.5175e-04 - val_accuracy: 1.0000\n",
      "Epoch 9/20\n",
      "61/61 [==============================] - 10s 156ms/step - loss: 0.0016 - accuracy: 0.9995 - val_loss: 1.1085e-04 - val_accuracy: 1.0000\n",
      "Epoch 10/20\n",
      "61/61 [==============================] - 11s 178ms/step - loss: 0.0046 - accuracy: 0.9990 - val_loss: 1.7381e-04 - val_accuracy: 1.0000\n",
      "Epoch 11/20\n",
      "61/61 [==============================] - 11s 178ms/step - loss: 0.0011 - accuracy: 1.0000 - val_loss: 3.2276e-05 - val_accuracy: 1.0000\n",
      "Epoch 12/20\n",
      "61/61 [==============================] - 10s 158ms/step - loss: 0.0057 - accuracy: 0.9990 - val_loss: 5.5475e-05 - val_accuracy: 1.0000\n",
      "Epoch 13/20\n",
      "61/61 [==============================] - 12s 192ms/step - loss: 3.7848e-04 - accuracy: 1.0000 - val_loss: 4.3819e-05 - val_accuracy: 1.0000\n",
      "Epoch 14/20\n",
      "61/61 [==============================] - 9s 140ms/step - loss: 0.0014 - accuracy: 0.9995 - val_loss: 1.1569e-05 - val_accuracy: 1.0000\n",
      "Epoch 15/20\n",
      "61/61 [==============================] - 13s 210ms/step - loss: 0.0015 - accuracy: 0.9995 - val_loss: 2.0286e-05 - val_accuracy: 1.0000\n",
      "Epoch 16/20\n",
      "61/61 [==============================] - 11s 171ms/step - loss: 0.0018 - accuracy: 0.9995 - val_loss: 4.3524e-05 - val_accuracy: 1.0000\n",
      "Epoch 17/20\n",
      "61/61 [==============================] - 12s 191ms/step - loss: 0.0082 - accuracy: 0.9984 - val_loss: 5.3009e-05 - val_accuracy: 1.0000\n",
      "Epoch 18/20\n",
      "61/61 [==============================] - 12s 198ms/step - loss: 0.0169 - accuracy: 0.9958 - val_loss: 0.0014 - val_accuracy: 1.0000\n",
      "Epoch 19/20\n",
      "61/61 [==============================] - 11s 178ms/step - loss: 0.0137 - accuracy: 0.9969 - val_loss: 2.4045e-04 - val_accuracy: 1.0000\n",
      "Epoch 20/20\n",
      "61/61 [==============================] - 9s 149ms/step - loss: 0.0099 - accuracy: 0.9964 - val_loss: 0.0023 - val_accuracy: 0.9995\n"
     ]
    }
   ],
   "source": [
    "history = model.fit(\n",
    "    datagen.flow(X_train, y_train, batch_size=32),\n",
    "    validation_data=(X_test, y_test),\n",
    "    epochs=20,\n",
    "    verbose=1\n",
    ")"
   ]
  },
  {
   "cell_type": "code",
   "execution_count": 21,
   "id": "9b7cb3c0-2547-45ae-baa7-e61b0317fecf",
   "metadata": {},
   "outputs": [
    {
     "name": "stdout",
     "output_type": "stream",
     "text": [
      "61/61 [==============================] - 2s 24ms/step - loss: 0.0023 - accuracy: 0.9995\n",
      "Validation Accuracy: 99.95%\n"
     ]
    }
   ],
   "source": [
    "val_loss, val_acc = model.evaluate(X_test, y_test)\n",
    "print(f\"Validation Accuracy: {val_acc * 100:.2f}%\")"
   ]
  },
  {
   "cell_type": "code",
   "execution_count": 24,
   "id": "b4889636-f9cf-4e7a-89ca-e831163dc97c",
   "metadata": {},
   "outputs": [
    {
     "name": "stdout",
     "output_type": "stream",
     "text": [
      "61/61 [==============================] - 1s 17ms/step\n",
      "\n",
      "Classification Report:\n",
      "\n",
      "              precision    recall  f1-score   support\n",
      "\n",
      "    infected       1.00      1.00      1.00       781\n",
      " notinfected       1.00      1.00      1.00      1141\n",
      "\n",
      "    accuracy                           1.00      1922\n",
      "   macro avg       1.00      1.00      1.00      1922\n",
      "weighted avg       1.00      1.00      1.00      1922\n",
      "\n"
     ]
    }
   ],
   "source": [
    "y_pred = np.argmax(model.predict(X_test), axis=1)\n",
    "y_true = np.argmax(y_test, axis=1)\n",
    "print(\"\\nClassification Report:\\n\")\n",
    "print(classification_report(y_true, y_pred, target_names=[\"infected\", \"notinfected\"]))"
   ]
  },
  {
   "cell_type": "code",
   "execution_count": 27,
   "id": "109c4fb9-9966-4ea1-bf2d-9f8f1bdf6735",
   "metadata": {},
   "outputs": [
    {
     "data": {
      "image/png": "[encoded data removed]",
      "text/plain": [
       "<Figure size 1200x400 with 2 Axes>"
      ]
     },
     "metadata": {},
     "output_type": "display_data"
    }
   ],
   "source": [
    "plt.figure(figsize=(12, 4))\n",
    "\n",
    "plt.subplot(1, 2, 1)\n",
    "plt.plot(history.history['accuracy'], label='Train Accuracy')\n",
    "plt.plot(history.history['val_accuracy'], label='Validation Accuracy')\n",
    "plt.title('Model Accuracy')\n",
    "plt.xlabel('Epoch')\n",
    "plt.ylabel('Accuracy')\n",
    "plt.legend()\n",
    "plt.subplot(1, 2, 2)\n",
    "plt.plot(history.history['loss'], label='Train Loss')\n",
    "plt.plot(history.history['val_loss'], label='Validation Loss')\n",
    "plt.title('Model Loss')\n",
    "plt.xlabel('Epoch')\n",
    "plt.ylabel('Loss')\n",
    "plt.legend()\n",
    "\n",
    "plt.show()"
   ]
  },
  {
   "cell_type": "code",
   "execution_count": 25,
   "id": "74d7889c-4728-4644-a0c7-521dd82d6e92",
   "metadata": {},
   "outputs": [
    {
     "name": "stdout",
     "output_type": "stream",
     "text": [
      "Model saved as 'pcos_detection_model.h5'\n"
     ]
    },
    {
     "name": "stderr",
     "output_type": "stream",
     "text": [
      "/Users/rs_en/tensorflow-test/env/lib/python3.8/site-packages/keras/src/engine/training.py:3000: UserWarning: You are saving your model as an HDF5 file via `model.save()`. This file format is considered legacy. We recommend using instead the native Keras format, e.g. `model.save('my_model.keras')`.\n",
      "  saving_api.save_model(\n"
     ]
    }
   ],
   "source": [
    "model.save(\"pcos_detection_model.h5\")\n",
    "print(\"Model saved as 'pcos_detection_model.h5'\")"
   ]
  },
  {
   "cell_type": "code",
   "execution_count": 6,
   "id": "c3889535-e8d1-4b11-9b1f-63203eb52c2d",
   "metadata": {},
   "outputs": [
    {
     "name": "stdout",
     "output_type": "stream",
     "text": [
      "Collecting opencv-python\n",
      "  Downloading opencv_python-4.11.0.86-cp37-abi3-macosx_13_0_arm64.whl.metadata (20 kB)\n",
      "Requirement already satisfied: numpy>=1.21.0 in ./env/lib/python3.8/site-packages (from opencv-python) (1.23.2)\n",
      "Downloading opencv_python-4.11.0.86-cp37-abi3-macosx_13_0_arm64.whl (37.3 MB)\n",
      "\u001b[2K   \u001b[90m━━━━━━━━━━━━━━━━━━━━━━━━━━━━━━━━━━━━━━━━\u001b[0m \u001b[32m37.3/37.3 MB\u001b[0m \u001b[31m1.7 MB/s\u001b[0m eta \u001b[36m0:00:00\u001b[0m00:01\u001b[0m00:01\u001b[0mm\n",
      "\u001b[?25hInstalling collected packages: opencv-python\n",
      "Successfully installed opencv-python-4.11.0.86\n",
      "Note: you may need to restart the kernel to use updated packages.\n"
     ]
    }
   ],
   "source": [
    "pip install opencv-python"
   ]
  }
 ],
 "metadata": {
  "kernelspec": {
   "display_name": "Python 3 (ipykernel)",
   "language": "python",
   "name": "python3"
  },
  "language_info": {
   "codemirror_mode": {
    "name": "ipython",
    "version": 3
   },
   "file_extension": ".py",
   "mimetype": "text/x-python",
   "name": "python",
   "nbconvert_exporter": "python",
   "pygments_lexer": "ipython3",
   "version": "3.8.19"
  }
 },
 "nbformat": 4,
 "nbformat_minor": 5
}
