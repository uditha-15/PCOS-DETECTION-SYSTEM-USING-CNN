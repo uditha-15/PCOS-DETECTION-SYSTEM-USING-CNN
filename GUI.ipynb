{
 "cells": [
  {
   "cell_type": "code",
   "execution_count": 3,
   "id": "2da6a16d-7e28-40c6-b68c-efd39bdeb60b",
   "metadata": {},
   "outputs": [
    {
     "name": "stdout",
     "output_type": "stream",
     "text": [
      "Collecting customtkinter\n",
      "  Downloading customtkinter-5.2.2-py3-none-any.whl.metadata (677 bytes)\n",
      "Collecting darkdetect (from customtkinter)\n",
      "  Downloading darkdetect-0.8.0-py3-none-any.whl.metadata (3.6 kB)\n",
      "Requirement already satisfied: packaging in ./env/lib/python3.8/site-packages (from customtkinter) (24.2)\n",
      "Downloading customtkinter-5.2.2-py3-none-any.whl (296 kB)\n",
      "Downloading darkdetect-0.8.0-py3-none-any.whl (9.0 kB)\n",
      "Installing collected packages: darkdetect, customtkinter\n",
      "Successfully installed customtkinter-5.2.2 darkdetect-0.8.0\n",
      "Note: you may need to restart the kernel to use updated packages.\n"
     ]
    }
   ],
   "source": [
    "pip install customtkinter\n"
   ]
  },
  {
   "cell_type": "code",
   "execution_count": 1,
   "id": "ab2988e4-09d7-48b2-bd16-1ae706c4dd57",
   "metadata": {},
   "outputs": [],
   "source": [
    "import customtkinter as ctk\n",
    "from tkinter import filedialog\n",
    "from PIL import Image, ImageTk\n",
    "import cv2\n",
    "import numpy as np\n",
    "from tensorflow.keras.models import load_model\n",
    "import threading"
   ]
  },
  {
   "cell_type": "code",
   "execution_count": 2,
   "id": "ced7ccd1-2101-4300-86da-7b1bfe8cc982",
   "metadata": {},
   "outputs": [
    {
     "name": "stderr",
     "output_type": "stream",
     "text": [
      "2025-01-25 16:55:20.803861: I metal_plugin/src/device/metal_device.cc:1154] Metal device set to: Apple M1\n",
      "2025-01-25 16:55:20.803907: I metal_plugin/src/device/metal_device.cc:296] systemMemory: 8.00 GB\n",
      "2025-01-25 16:55:20.803917: I metal_plugin/src/device/metal_device.cc:313] maxCacheSize: 2.67 GB\n",
      "2025-01-25 16:55:20.804003: I tensorflow/core/common_runtime/pluggable_device/pluggable_device_factory.cc:303] Could not identify NUMA node of platform GPU ID 0, defaulting to 0. Your kernel may not have been built with NUMA support.\n",
      "2025-01-25 16:55:20.804299: I tensorflow/core/common_runtime/pluggable_device/pluggable_device_factory.cc:269] Created TensorFlow device (/job:localhost/replica:0/task:0/device:GPU:0 with 0 MB memory) -> physical PluggableDevice (device: 0, name: METAL, pci bus id: <undefined>)\n"
     ]
    }
   ],
   "source": [
    "model = load_model(\"pcos_detection_model.h5\")"
   ]
  },
  {
   "cell_type": "code",
   "execution_count": 3,
   "id": "eedf9320-a668-4f43-bebc-509865e96815",
   "metadata": {},
   "outputs": [
    {
     "name": "stderr",
     "output_type": "stream",
     "text": [
      "2025-01-25 16:58:23.783 python[26824:20863026] +[IMKClient subclass]: chose IMKClient_Legacy\n",
      "2025-01-25 16:58:23.783 python[26824:20863026] +[IMKInputSession subclass]: chose IMKInputSession_Legacy\n",
      "2025-01-25 16:58:25.430 python[26824:20863026] The class 'NSOpenPanel' overrides the method identifier.  This method is implemented by class 'NSWindow'\n",
      "/Users/rs_en/tensorflow-test/env/lib/python3.8/site-packages/customtkinter/windows/widgets/core_widget_classes/ctk_base_class.py:179: UserWarning: CTkLabel Warning: Given image is not CTkImage but <class 'PIL.ImageTk.PhotoImage'>. Image can not be scaled on HighDPI displays, use CTkImage instead.\n",
      "\n",
      "  warnings.warn(f\"{type(self).__name__} Warning: Given image is not CTkImage but {type(image)}. Image can not be scaled on HighDPI displays, use CTkImage instead.\\n\")\n"
     ]
    },
    {
     "name": "stdout",
     "output_type": "stream",
     "text": [
      "1/1 [==============================] - 0s 320ms/step\n"
     ]
    },
    {
     "name": "stderr",
     "output_type": "stream",
     "text": [
      "2025-01-25 16:58:33.342188: I tensorflow/core/grappler/optimizers/custom_graph_optimizer_registry.cc:114] Plugin optimizer for device_type GPU is enabled.\n"
     ]
    },
    {
     "name": "stdout",
     "output_type": "stream",
     "text": [
      "1/1 [==============================] - 0s 104ms/step\n",
      "1/1 [==============================] - 0s 24ms/step\n",
      "1/1 [==============================] - 0s 15ms/step\n"
     ]
    },
    {
     "name": "stderr",
     "output_type": "stream",
     "text": [
      "libpng warning: iCCP: profile 'ICC Profile': 0h: PCS illuminant is not D50\n"
     ]
    }
   ],
   "source": [
    "def preprocess_single_image(img_path, img_size=(128, 128)):\n",
    "    img = cv2.imread(img_path)\n",
    "    if img is None:\n",
    "        return None\n",
    "    img = cv2.resize(img, img_size) \n",
    "    img = img / 255.0  \n",
    "    img = np.expand_dims(img, axis=0)  \n",
    "    return img\n",
    "\n",
    "def predict_image(img_path):\n",
    "    test_img = preprocess_single_image(img_path)\n",
    "    if test_img is None:\n",
    "        return None\n",
    "    prediction = model.predict(test_img)\n",
    "    class_label = np.argmax(prediction, axis=1)\n",
    "    return \"Infected\" if class_label == 0 else \"Non-Infected\"\n",
    "\n",
    "def run_prediction(img_path):\n",
    "    def thread_task():\n",
    "        # Display processing message\n",
    "        spinner_label.configure(text=\"⏳ Processing...\")\n",
    "        result_label.configure(text=\"\", fg_color=\"#2E2E2E\")\n",
    "        \n",
    "        result = predict_image(img_path)\n",
    "        \n",
    "        spinner_label.configure(text=\"\")\n",
    "        if result:\n",
    "            result_label.configure(\n",
    "                text=f\"Prediction: {result}\",\n",
    "                fg_color=\"#32CD32\" if result == \"Non-Infected\" else \"#FF4500\",\n",
    "            )\n",
    "        else:\n",
    "            result_label.configure(text=\"Error: Could not load image.\", fg_color=\"#FF0000\")\n",
    "\n",
    "    threading.Thread(target=thread_task).start()\n",
    "\n",
    "def upload_image():\n",
    "    file_path = filedialog.askopenfilename()\n",
    "    if file_path:\n",
    "        img = Image.open(file_path)\n",
    "        img = img.resize((300, 300))  \n",
    "        img = ImageTk.PhotoImage(img)\n",
    "        image_label.configure(image=img, text=\"\") \n",
    "        image_label.image = img\n",
    "        run_prediction(file_path)\n",
    "\n",
    "ctk.set_appearance_mode(\"Dark\") \n",
    "ctk.set_default_color_theme(\"green\")\n",
    "root = ctk.CTk()\n",
    "root.title(\"PCOS Detection System\")\n",
    "root.geometry(\"700x700\")\n",
    "\n",
    "title_label = ctk.CTkLabel(\n",
    "    root,\n",
    "    text=\"PCOS Detection System\",\n",
    "    font=(\"Arial Bold\", 28),\n",
    "    fg_color=\"#FFFFFF\",\n",
    "    corner_radius=10,\n",
    "    text_color=\"black\",\n",
    "    padx=20,\n",
    "    pady=10,\n",
    ")\n",
    "title_label.pack(pady=20)\n",
    "\n",
    "image_frame = ctk.CTkFrame(root, width=320, height=320, corner_radius=15)\n",
    "image_frame.pack(pady=10)\n",
    "image_label = ctk.CTkLabel(image_frame, text=\"Upload an Image\", font=(\"Arial\", 16))\n",
    "image_label.pack(expand=True)\n",
    "\n",
    "upload_button = ctk.CTkButton(\n",
    "    root,\n",
    "    text=\"Upload Image\",\n",
    "    command=upload_image,\n",
    "    font=(\"Arial\", 18),\n",
    "    fg_color=\"#4CAF50\",\n",
    "    hover_color=\"#45A049\",\n",
    "    corner_radius=12,\n",
    "    width=200,\n",
    ")\n",
    "upload_button.pack(pady=20)\n",
    "\n",
    "spinner_label = ctk.CTkLabel(root, text=\"\", font=(\"Arial\", 18), text_color=\"#FFA500\")\n",
    "spinner_label.pack(pady=10)\n",
    "\n",
    "result_label = ctk.CTkLabel(\n",
    "    root,\n",
    "    text=\"\",\n",
    "    font=(\"Arial\", 18),\n",
    "    fg_color=\"#2E2E2E\",\n",
    "    text_color=\"white\",\n",
    "    corner_radius=10,\n",
    "    width=350,\n",
    "    height=50,\n",
    "    anchor=\"center\",\n",
    "    padx=20,\n",
    "    pady=10,\n",
    ")\n",
    "result_label.pack(pady=30)\n",
    "\n",
    "footer_label = ctk.CTkLabel(\n",
    "    root,\n",
    "    text=\"Developed by UDITHA\",\n",
    "    font=(\"Arial Italic\", 12),\n",
    "    text_color=\"gray\",\n",
    ")\n",
    "footer_label.pack(side=\"bottom\", pady=10)\n",
    "\n",
    "root.mainloop()"
   ]
  },
  {
   "cell_type": "code",
   "execution_count": null,
   "id": "37729049-8523-480b-b1fa-10f26cb77ff5",
   "metadata": {},
   "outputs": [],
   "source": []
  }
 ],
 "metadata": {
  "kernelspec": {
   "display_name": "Python 3 (ipykernel)",
   "language": "python",
   "name": "python3"
  },
  "language_info": {
   "codemirror_mode": {
    "name": "ipython",
    "version": 3
   },
   "file_extension": ".py",
   "mimetype": "text/x-python",
   "name": "python",
   "nbconvert_exporter": "python",
   "pygments_lexer": "ipython3",
   "version": "3.8.19"
  }
 },
 "nbformat": 4,
 "nbformat_minor": 5
}
